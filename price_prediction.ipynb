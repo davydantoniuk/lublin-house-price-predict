{
 "cells": [
  {
   "cell_type": "markdown",
   "metadata": {},
   "source": [
    "# Lublin House Prices Prediction"
   ]
  },
  {
   "cell_type": "code",
   "execution_count": 58,
   "metadata": {},
   "outputs": [],
   "source": [
    "import pandas as pd\n",
    "import numpy as np\n",
    "import matplotlib.pyplot as plt\n",
    "import seaborn as sns"
   ]
  },
  {
   "cell_type": "markdown",
   "metadata": {},
   "source": [
    "## Data preprocessing"
   ]
  },
  {
   "cell_type": "code",
   "execution_count": 59,
   "metadata": {},
   "outputs": [],
   "source": [
    "data = pd.read_csv('data/houses_data.csv')"
   ]
  },
  {
   "cell_type": "code",
   "execution_count": 60,
   "metadata": {},
   "outputs": [
    {
     "name": "stdout",
     "output_type": "stream",
     "text": [
      "<class 'pandas.core.frame.DataFrame'>\n",
      "RangeIndex: 3182 entries, 0 to 3181\n",
      "Data columns (total 8 columns):\n",
      " #   Column    Non-Null Count  Dtype \n",
      "---  ------    --------------  ----- \n",
      " 0   Price     3182 non-null   object\n",
      " 1   Name      3182 non-null   object\n",
      " 2   Rooms     3182 non-null   object\n",
      " 3   Area      3182 non-null   object\n",
      " 4   Floor     3121 non-null   object\n",
      " 5   Region    3182 non-null   object\n",
      " 6   Year      3182 non-null   object\n",
      " 7   Elevator  3182 non-null   object\n",
      "dtypes: object(8)\n",
      "memory usage: 199.0+ KB\n"
     ]
    }
   ],
   "source": [
    "data.info()"
   ]
  },
  {
   "cell_type": "code",
   "execution_count": 61,
   "metadata": {},
   "outputs": [],
   "source": [
    "data = data.drop(\"Name\", axis=1)"
   ]
  },
  {
   "cell_type": "code",
   "execution_count": 62,
   "metadata": {},
   "outputs": [
    {
     "name": "stdout",
     "output_type": "stream",
     "text": [
      "\n",
      "Unique values in each column (excluding 'Price' and 'Area'):\n",
      "Rooms: ['4 pokoje' '2 pokoje' '3 pokoje' '1 pokój' '5 pokoi' '6 pokoi'\n",
      " '10+ pokoi' '7 pokoi']\n",
      "Floor: ['3 piętro' '2 piętro' '1 piętro' nan '10+ piętro' '10 piętro' '4 piętro'\n",
      " 'parter' '6 piętro' '5 piętro' '9 piętro' '7 piętro' '8 piętro'\n",
      " 'suterena' 'poddasze']\n",
      "Region: ['Rury' 'Czechów Północny' 'Wrotków' 'Czechów Południowy' 'Kośminek'\n",
      " 'Wieniawa' 'Ponikwoda' 'Śródmieście' 'Bronowice' 'Węglin Południowy'\n",
      " 'Dziesiąta' 'Tatary' 'Felin' 'Kalinowszczyzna' 'Sławin' 'Czuby Północne'\n",
      " 'Konstantynów' 'Szerokie' 'Czuby Południowe' 'Stare Miasto'\n",
      " 'Za Cukrownią' 'Zemborzyce' 'Węglin Północny' 'Hajdów-Zadębie']\n",
      "Year: ['brak informacji' '2025' '2026' '2023' '2015' '1980' '1982' '2008' '2024'\n",
      " '2018' '2003' '2021' '1976' '1963' '2017' '1969' '2000' '1978' '1975'\n",
      " '1983' '1993' '1974' '1995' '2022' '1994' '1897' '1986' '1984' '2010'\n",
      " '1988' '1973' '1996' '1967' '1972' '1964' '1998' '2014' '1990' '1977'\n",
      " '2005' '2012' '2016' '1985' '1991' '2019' '1968' '2020' '1970' '1960'\n",
      " '1987' '2001' '2013' '1958' '2011' '2027' '1965' '1939' '1954' '2004'\n",
      " '1908' '1997' '1979' '1930' '1971' '1961' '1900' '1989' '1981' '1999'\n",
      " '2002' '2007' '2006' '1962' '1934' '1650' '2009' '1815' '1966' '1910'\n",
      " '1957' '1955' '1992' '1936' '1935' '1938' '1' '1925' '1904' '1951' '1956'\n",
      " '1950' '1911' '1920' '1918' '1959' '1953' '1912' '1880' '1917' '1909'\n",
      " '1928' '1915' '1914' '1890' '1905' '87' '1927' '1860' '1940']\n",
      "Elevator: ['nie' 'tak']\n"
     ]
    }
   ],
   "source": [
    "print(\"\\nUnique values in each column (excluding 'Price' and 'Area'):\")\n",
    "for column in data.columns:\n",
    "    if column not in ['Price', 'Area']:\n",
    "        unique_values = data[column].unique()\n",
    "        print(f\"{column}: {unique_values}\")"
   ]
  },
  {
   "cell_type": "markdown",
   "metadata": {},
   "source": [
    "### Change the data type of the columns"
   ]
  },
  {
   "cell_type": "code",
   "execution_count": 63,
   "metadata": {},
   "outputs": [],
   "source": [
    "# Replace 'Zapytaj o cenę' with NaN\n",
    "data['Price'] = data['Price'].replace('Zapytaj o cenę', np.nan)\n",
    "# Remove non-numeric characters, replace commas with dots, and convert to float, while keeping NaN values\n",
    "data['Price'] = data['Price'].str.replace('\\xa0', '').str.replace('zł', '').str.replace(',', '.').astype('float32')"
   ]
  },
  {
   "cell_type": "code",
   "execution_count": 64,
   "metadata": {},
   "outputs": [],
   "source": [
    "# Remove non-numeric characters and convert 'Area' to float\n",
    "data['Area'] = data['Area'].str.replace(' ', '').str.replace('m²', '').astype('float32')"
   ]
  },
  {
   "cell_type": "code",
   "execution_count": 65,
   "metadata": {},
   "outputs": [],
   "source": [
    "# Replace 'brak informacji' with NaN in 'Year' column\n",
    "data['Year'] = data['Year'].replace('brak informacji', np.nan)\n",
    "# Convert 'Year' to integer, while keeping NaN values\n",
    "data['Year'] = data['Year'].astype(float).astype('Int32')"
   ]
  },
  {
   "cell_type": "code",
   "execution_count": 66,
   "metadata": {},
   "outputs": [
    {
     "name": "stderr",
     "output_type": "stream",
     "text": [
      "C:\\Users\\davyd\\AppData\\Local\\Temp\\ipykernel_5020\\190091281.py:2: FutureWarning: Downcasting behavior in `replace` is deprecated and will be removed in a future version. To retain the old behavior, explicitly call `result.infer_objects(copy=False)`. To opt-in to the future behavior, set `pd.set_option('future.no_silent_downcasting', True)`\n",
      "  data['Elevator'] = data['Elevator'].replace({'nie': 0, 'tak': 1}).astype('int32')\n"
     ]
    }
   ],
   "source": [
    "# Convert 'Elevator' column to 0 if 'nie' and 1 if 'tak'\n",
    "data['Elevator'] = data['Elevator'].replace({'nie': 0, 'tak': 1}).astype('int32')"
   ]
  },
  {
   "cell_type": "code",
   "execution_count": 67,
   "metadata": {},
   "outputs": [
    {
     "name": "stdout",
     "output_type": "stream",
     "text": [
      "Number of rows for each unique value in 'Rooms' column:\n",
      "Rooms\n",
      "3 pokoje     1364\n",
      "2 pokoje     1124\n",
      "4 pokoje      404\n",
      "1 pokój       232\n",
      "5 pokoi        46\n",
      "6 pokoi         7\n",
      "7 pokoi         3\n",
      "10+ pokoi       2\n",
      "Name: count, dtype: int64\n"
     ]
    }
   ],
   "source": [
    "# Count the number of rows for each unique value in 'Rooms' column\n",
    "room_counts = data['Rooms'].value_counts()\n",
    "print(\"Number of rows for each unique value in 'Rooms' column:\")\n",
    "print(room_counts)"
   ]
  },
  {
   "cell_type": "code",
   "execution_count": 68,
   "metadata": {},
   "outputs": [
    {
     "name": "stderr",
     "output_type": "stream",
     "text": [
      "<>:4: SyntaxWarning: invalid escape sequence '\\d'\n",
      "<>:4: SyntaxWarning: invalid escape sequence '\\d'\n",
      "C:\\Users\\davyd\\AppData\\Local\\Temp\\ipykernel_5020\\158739740.py:4: SyntaxWarning: invalid escape sequence '\\d'\n",
      "  data['Rooms'] = data['Rooms'].str.extract('(\\d+)').astype('int32')\n"
     ]
    }
   ],
   "source": [
    "# Replace '10+ pokoi' with '10 pokoi' in 'Rooms' column\n",
    "data['Rooms'] = data['Rooms'].replace('10+ pokoi', '10 pokoi')\n",
    "# Extract numeric part and convert 'Rooms' to integer\n",
    "data['Rooms'] = data['Rooms'].str.extract('(\\d+)').astype('int32')"
   ]
  },
  {
   "cell_type": "code",
   "execution_count": 69,
   "metadata": {},
   "outputs": [],
   "source": [
    "# Drop rows with missing values in 'Price' column\n",
    "data = data.dropna(subset=['Price'])"
   ]
  },
  {
   "cell_type": "code",
   "execution_count": 70,
   "metadata": {},
   "outputs": [],
   "source": [
    "# Reorder columns\n",
    "data = data[['Price', 'Area', 'Elevator', 'Year', 'Rooms', 'Floor', 'Region']]"
   ]
  },
  {
   "cell_type": "code",
   "execution_count": 71,
   "metadata": {},
   "outputs": [
    {
     "name": "stdout",
     "output_type": "stream",
     "text": [
      "Missing data in each column:\n",
      "Price         0\n",
      "Area          0\n",
      "Elevator      0\n",
      "Year        430\n",
      "Rooms         0\n",
      "Floor        61\n",
      "Region        0\n",
      "dtype: int64\n"
     ]
    }
   ],
   "source": [
    "# Assuming 'data' is your DataFrame\n",
    "missing_data = data.isnull().sum()\n",
    "print(\"Missing data in each column:\")\n",
    "print(missing_data)"
   ]
  },
  {
   "cell_type": "code",
   "execution_count": 72,
   "metadata": {},
   "outputs": [
    {
     "data": {
      "text/html": [
       "<div>\n",
       "<style scoped>\n",
       "    .dataframe tbody tr th:only-of-type {\n",
       "        vertical-align: middle;\n",
       "    }\n",
       "\n",
       "    .dataframe tbody tr th {\n",
       "        vertical-align: top;\n",
       "    }\n",
       "\n",
       "    .dataframe thead th {\n",
       "        text-align: right;\n",
       "    }\n",
       "</style>\n",
       "<table border=\"1\" class=\"dataframe\">\n",
       "  <thead>\n",
       "    <tr style=\"text-align: right;\">\n",
       "      <th></th>\n",
       "      <th>Price</th>\n",
       "      <th>Area</th>\n",
       "      <th>Elevator</th>\n",
       "      <th>Year</th>\n",
       "      <th>Rooms</th>\n",
       "      <th>Floor</th>\n",
       "      <th>Region</th>\n",
       "    </tr>\n",
       "  </thead>\n",
       "  <tbody>\n",
       "    <tr>\n",
       "      <th>0</th>\n",
       "      <td>567000.0</td>\n",
       "      <td>52.500000</td>\n",
       "      <td>0</td>\n",
       "      <td>&lt;NA&gt;</td>\n",
       "      <td>4</td>\n",
       "      <td>3 piętro</td>\n",
       "      <td>Rury</td>\n",
       "    </tr>\n",
       "    <tr>\n",
       "      <th>1</th>\n",
       "      <td>728500.0</td>\n",
       "      <td>77.500000</td>\n",
       "      <td>1</td>\n",
       "      <td>2025</td>\n",
       "      <td>4</td>\n",
       "      <td>3 piętro</td>\n",
       "      <td>Czechów Północny</td>\n",
       "    </tr>\n",
       "    <tr>\n",
       "      <th>2</th>\n",
       "      <td>668360.0</td>\n",
       "      <td>68.199997</td>\n",
       "      <td>1</td>\n",
       "      <td>2026</td>\n",
       "      <td>4</td>\n",
       "      <td>2 piętro</td>\n",
       "      <td>Wrotków</td>\n",
       "    </tr>\n",
       "    <tr>\n",
       "      <th>3</th>\n",
       "      <td>833414.0</td>\n",
       "      <td>76.459999</td>\n",
       "      <td>1</td>\n",
       "      <td>2023</td>\n",
       "      <td>4</td>\n",
       "      <td>1 piętro</td>\n",
       "      <td>Czechów Południowy</td>\n",
       "    </tr>\n",
       "    <tr>\n",
       "      <th>4</th>\n",
       "      <td>696500.0</td>\n",
       "      <td>79.599998</td>\n",
       "      <td>1</td>\n",
       "      <td>2025</td>\n",
       "      <td>4</td>\n",
       "      <td>NaN</td>\n",
       "      <td>Kośminek</td>\n",
       "    </tr>\n",
       "  </tbody>\n",
       "</table>\n",
       "</div>"
      ],
      "text/plain": [
       "      Price       Area  Elevator  Year  Rooms     Floor              Region\n",
       "0  567000.0  52.500000         0  <NA>      4  3 piętro                Rury\n",
       "1  728500.0  77.500000         1  2025      4  3 piętro    Czechów Północny\n",
       "2  668360.0  68.199997         1  2026      4  2 piętro             Wrotków\n",
       "3  833414.0  76.459999         1  2023      4  1 piętro  Czechów Południowy\n",
       "4  696500.0  79.599998         1  2025      4       NaN            Kośminek"
      ]
     },
     "execution_count": 72,
     "metadata": {},
     "output_type": "execute_result"
    }
   ],
   "source": [
    "data.head()"
   ]
  },
  {
   "cell_type": "code",
   "execution_count": 73,
   "metadata": {},
   "outputs": [
    {
     "data": {
      "text/plain": [
       "Price       float32\n",
       "Area        float32\n",
       "Elevator      int32\n",
       "Year          Int32\n",
       "Rooms         int32\n",
       "Floor        object\n",
       "Region       object\n",
       "dtype: object"
      ]
     },
     "execution_count": 73,
     "metadata": {},
     "output_type": "execute_result"
    }
   ],
   "source": [
    "data.dtypes"
   ]
  },
  {
   "cell_type": "code",
   "execution_count": 74,
   "metadata": {},
   "outputs": [
    {
     "name": "stdout",
     "output_type": "stream",
     "text": [
      "Number of rows with both 'Floor' and 'Region' missing values: 0\n"
     ]
    }
   ],
   "source": [
    "# Calculate the number of rows with both 'Floor' and 'Region' missing values\n",
    "missing_floor_region = data[data['Floor'].isnull() & data['Region'].isnull()].shape[0]\n",
    "print(f\"Number of rows with both 'Floor' and 'Region' missing values: {missing_floor_region}\")"
   ]
  },
  {
   "cell_type": "markdown",
   "metadata": {},
   "source": [
    "There are 0 rows which has mising values at the same time in the columns 'Floor' and 'Region', so it is bad idea to drop all NA values, because we will lose near 500 rows from the dataset. Instead of this, we will fill the missing values in the 'Floor' column with the median value."
   ]
  },
  {
   "cell_type": "markdown",
   "metadata": {},
   "source": [
    "### Impute missing values"
   ]
  },
  {
   "cell_type": "markdown",
   "metadata": {},
   "source": [
    "#### Floors"
   ]
  },
  {
   "cell_type": "markdown",
   "metadata": {},
   "source": [
    "Use median value to fill missing values in the 'Floor' column."
   ]
  },
  {
   "cell_type": "code",
   "execution_count": 79,
   "metadata": {},
   "outputs": [
    {
     "name": "stdout",
     "output_type": "stream",
     "text": [
      "Number of rows for each unique value in 'Floor' column:\n",
      "Floor\n",
      "3 piętro      549\n",
      "2 piętro      541\n",
      "1 piętro      531\n",
      "parter        491\n",
      "4 piętro      285\n",
      "5 piętro      112\n",
      "6 piętro       73\n",
      "NaN            61\n",
      "7 piętro       50\n",
      "10 piętro      32\n",
      "9 piętro       31\n",
      "8 piętro       15\n",
      "10+ piętro      8\n",
      "suterena        1\n",
      "poddasze        1\n",
      "Name: count, dtype: int64\n"
     ]
    }
   ],
   "source": [
    "# Count the occurrences of each unique value in the 'Floor' column\n",
    "floor_counts = data['Floor'].value_counts(dropna=False)\n",
    "# Display the counts for each unique value\n",
    "print(\"Number of rows for each unique value in 'Floor' column:\")\n",
    "print(floor_counts)"
   ]
  },
  {
   "cell_type": "markdown",
   "metadata": {},
   "source": [
    "Change 10+ piętro and poddasze to 10 piętro, suterena to parter"
   ]
  },
  {
   "cell_type": "code",
   "execution_count": 80,
   "metadata": {},
   "outputs": [],
   "source": [
    "data['Floor'] = data['Floor'].replace({\n",
    "    'suterena': 'parter',\n",
    "    'poddasze': 'parter',\n",
    "    '10+ piętro': '10 piętro'\n",
    "})"
   ]
  },
  {
   "cell_type": "code",
   "execution_count": 86,
   "metadata": {},
   "outputs": [
    {
     "name": "stdout",
     "output_type": "stream",
     "text": [
      "Median of the 'Floor' column: 3.0\n"
     ]
    }
   ],
   "source": [
    "# Extract numeric part from 'Floor' column, forcing errors to NaN\n",
    "floor_numeric = data['Floor'].str.extract(r'(\\d+)').astype(float)\n",
    "# Calculate the median of the 'Floor' column, excluding NaN values\n",
    "median_floor = floor_numeric.dropna().median()[0]\n",
    "print(f\"Median of the 'Floor' column: {median_floor}\")"
   ]
  },
  {
   "cell_type": "code",
   "execution_count": 90,
   "metadata": {},
   "outputs": [],
   "source": [
    "# Replace all NaN values in 'Floor' column with '3 piętro'\n",
    "data['Floor'] = data['Floor'].fillna('3 piętro')"
   ]
  },
  {
   "cell_type": "markdown",
   "metadata": {},
   "source": [
    "#### Years"
   ]
  },
  {
   "cell_type": "markdown",
   "metadata": {},
   "source": [
    "Year column has very large number of missing values, so we will fill them with regression but first check the correlation between the year and other columns."
   ]
  },
  {
   "cell_type": "code",
   "execution_count": 117,
   "metadata": {},
   "outputs": [],
   "source": [
    "data['Year'] = data['Year'].replace({87: 1987, 1: np.nan})"
   ]
  },
  {
   "cell_type": "code",
   "execution_count": 120,
   "metadata": {},
   "outputs": [
    {
     "data": {
      "image/png": "[encoded data removed]",
      "text/plain": [
       "<Figure size 1000x800 with 2 Axes>"
      ]
     },
     "metadata": {},
     "output_type": "display_data"
    }
   ],
   "source": [
    "# Select only numeric columns\n",
    "numeric_data = data.select_dtypes(include=[np.number])\n",
    "corr_matrix = numeric_data.corr()\n",
    "# Plot the heatmap\n",
    "plt.figure(figsize=(10, 8))\n",
    "sns.heatmap(corr_matrix, annot=True, cmap='coolwarm', fmt='.2f')\n",
    "plt.title('Correlation Matrix')\n",
    "plt.show()"
   ]
  },
  {
   "cell_type": "markdown",
   "metadata": {},
   "source": [
    "Year column has very low correlation with other columns, only with the Elevator column has correlation approximately 0.5, so we will make a column `Year_interval` and fill missing values with year interval of the building and also consider whether there is a lift in the building, as older buildings may not have one"
   ]
  },
  {
   "cell_type": "markdown",
   "metadata": {},
   "source": [
    "Make new column `Year_interval`."
   ]
  },
  {
   "cell_type": "code",
   "execution_count": 121,
   "metadata": {},
   "outputs": [
    {
     "name": "stdout",
     "output_type": "stream",
     "text": [
      "   Year Year_interval\n",
      "0  <NA>           NaN\n",
      "1  2025         2016<\n",
      "2  2026         2016<\n",
      "3  2023         2016<\n",
      "4  2025         2016<\n"
     ]
    }
   ],
   "source": [
    "# Define the bins and labels for the intervals\n",
    "bins = [-np.inf, 1890, 1920, 1950, 1980, 2001, 2016, np.inf]\n",
    "labels = ['<1890', '1891-1920', '1921-1950', '1951-1980', '1981-2001', '2001-2016', '2016<']\n",
    "\n",
    "# Create the 'Year_interval' column using pd.cut()\n",
    "data['Year_interval'] = pd.cut(data['Year'], bins=bins, labels=labels, right=False)\n",
    "\n",
    "# Display the first few rows to verify the changes\n",
    "print(data[['Year', 'Year_interval']].head())"
   ]
  },
  {
   "cell_type": "code",
   "execution_count": 122,
   "metadata": {},
   "outputs": [
    {
     "data": {
      "text/plain": [
       "Year_interval\n",
       "2016<        1232\n",
       "1951-1980     426\n",
       "1981-2001     365\n",
       "2001-2016     238\n",
       "1891-1920      45\n",
       "1921-1950      39\n",
       "<1890           5\n",
       "Name: count, dtype: int64"
      ]
     },
     "execution_count": 122,
     "metadata": {},
     "output_type": "execute_result"
    }
   ],
   "source": [
    "data[\"Year_interval\"].value_counts()"
   ]
  },
  {
   "cell_type": "markdown",
   "metadata": {},
   "source": [
    "See that most building are in 2016< and 1951-1980 years, so we will fill missing values with these intervals, depending on the availability of a elevator."
   ]
  },
  {
   "cell_type": "code",
   "execution_count": 129,
   "metadata": {},
   "outputs": [],
   "source": [
    "def fill_year_interval(row):\n",
    "    if pd.isna(row['Year_interval']):\n",
    "        if row['Elevator'] == 1:\n",
    "            return '2016<'\n",
    "        else:\n",
    "            return '1951-1980'\n",
    "    else:\n",
    "        return row['Year_interval']"
   ]
  },
  {
   "cell_type": "code",
   "execution_count": 130,
   "metadata": {},
   "outputs": [],
   "source": [
    "data['Year_interval'] = data.apply(fill_year_interval, axis=1)"
   ]
  },
  {
   "cell_type": "code",
   "execution_count": 132,
   "metadata": {},
   "outputs": [],
   "source": [
    "data = data[['Price', 'Area', 'Elevator', 'Rooms', 'Floor', 'Region','Year_interval','Year']]"
   ]
  },
  {
   "cell_type": "code",
   "execution_count": 134,
   "metadata": {},
   "outputs": [],
   "source": [
    "data.to_csv('data/houses_data_cleaned.csv', index=False)"
   ]
  }
 ],
 "metadata": {
  "kernelspec": {
   "display_name": "base",
   "language": "python",
   "name": "python3"
  },
  "language_info": {
   "codemirror_mode": {
    "name": "ipython",
    "version": 3
   },
   "file_extension": ".py",
   "mimetype": "text/x-python",
   "name": "python",
   "nbconvert_exporter": "python",
   "pygments_lexer": "ipython3",
   "version": "3.12.3"
  }
 },
 "nbformat": 4,
 "nbformat_minor": 2
}
